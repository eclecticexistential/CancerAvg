{
 "cells": [
  {
   "cell_type": "code",
   "execution_count": null,
   "metadata": {},
   "outputs": [],
   "source": [
    "from bokeh.io import show, output_file\n",
    "from bokeh.models import HoverTool, NumeralTickFormatter, ColumnDataSource\n",
    "from bokeh.plotting import figure\n",
    "from bokeh.palettes import Category20\n",
    "from math import pi\n",
    "from get_instances_by_state import get_state_percent, get_states\n",
    "\n",
    "states = get_states()\n",
    "years = []\n",
    "state_percents = []\n",
    "colors = Category20[18]\n",
    "for state in states:\n",
    "    area = get_state_percent(state)\n",
    "    for data in area:\n",
    "        years.append(str(data[0]))\n",
    "        state_percents.append(data[1])\n",
    "    if len(years) == 18:\n",
    "        source = ColumnDataSource(data=dict(year=years, data=state_percents, color=colors))\n",
    "        TOOLS=\"reset, hover, save\"\n",
    "        p = figure(x_range=years, title='New Cancer Cases / Pop 99-2016',\n",
    "                   toolbar_location='right', tools=TOOLS, plot_width=1100, plot_height=650, y_range=(0, 0.006))\n",
    "        p.vbar(x='year', top='data', width=0.6, source=source, line_color=\"white\", fill_color='color')\n",
    "        p.yaxis[0].formatter = NumeralTickFormatter(format=\"0.001\")\n",
    "        p.xaxis.major_label_orientation = pi/4\n",
    "        p.axis.major_label_text_font_size = \"13px\"\n",
    "        hover = p.select_one(HoverTool)\n",
    "        hover.tooltips = [\n",
    "            (\"Stats\", \"@data\"),\n",
    "        ]\n",
    "        p.title.text_font_size = \"24px\"\n",
    "        p.xgrid.grid_line_color = None\n",
    "        p.sizing_mode = \"stretch_both\"\n",
    "        output_file('StatePopCan.html', title='New Cancer Cases / Pop 99-2016')\n",
    "        show(p)\n",
    "        years = []\n",
    "        state_percents = []\n",
    "        pass\n",
    "       "
   ]
  },
  {
   "cell_type": "code",
   "execution_count": null,
   "metadata": {},
   "outputs": [],
   "source": []
  }
 ],
 "metadata": {
  "kernelspec": {
   "display_name": "Python 3",
   "language": "python",
   "name": "python3"
  }
 },
 "nbformat": 4,
 "nbformat_minor": 2
}
