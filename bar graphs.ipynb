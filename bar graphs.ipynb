{
 "cells": [
  {
   "cell_type": "code",
   "execution_count": 3,
   "metadata": {},
   "outputs": [],
   "source": [
    "from bokeh.io import show, output_file\n",
    "from bokeh.models import HoverTool, NumeralTickFormatter, ColumnDataSource\n",
    "from bokeh.plotting import figure\n",
    "from bokeh.palettes import Category20\n",
    "from math import pi\n",
    "from get_instances_by_state import get_info_decades\n",
    "\n",
    "def create_us_graph():\n",
    "    years = []\n",
    "    us_percents = []\n",
    "    colors = Category20[18]\n",
    "    more = get_info_decades()\n",
    "    for item in more:\n",
    "        years.append(str(item[0]))\n",
    "        us_percents.append(round(item[1], 6))\n",
    "    source = ColumnDataSource(data=dict(year=years, data=us_percents, color=colors))\n",
    "    TOOLS=\"reset, hover, save\"\n",
    "    p = figure(x_range=years, title=\"New Cancer Cases / US Pop 99-2016\", \n",
    "               toolbar_location='right', tools=TOOLS, plot_width=1100, plot_height=650, y_range=(0, 0.0055))\n",
    "    p.vbar(x='year', top='data', width=0.6, source=source, line_color=\"white\", fill_color='color')\n",
    "    p.yaxis[0].formatter = NumeralTickFormatter(format=\"0.001\")\n",
    "    p.xaxis.major_label_orientation = pi/4\n",
    "    p.axis.major_label_text_font_size = \"13px\"\n",
    "    hover = p.select_one(HoverTool)\n",
    "    hover.tooltips = [\n",
    "        (\"Stats\", \"@data\"),\n",
    "    ]\n",
    "    p.title.text_font_size = \"24px\"\n",
    "    p.xgrid.grid_line_color = None\n",
    "    p.sizing_mode = \"stretch_both\"\n",
    "\n",
    "    output_file(\"USPercentageCancer.html\", title=\"New Cancer Cases / US Pop 99-2016\")\n",
    "    show(p)\n",
    "    \n",
    "    \n",
    "create_us_graph()"
   ]
  },
  {
   "cell_type": "code",
   "execution_count": null,
   "metadata": {},
   "outputs": [],
   "source": []
  }
 ],
 "metadata": {
  "kernelspec": {
   "display_name": "Python 3",
   "language": "python",
   "name": "python3"
  },
  "language_info": {
   "codemirror_mode": {
    "name": "ipython",
    "version": 3
   },
   "file_extension": ".py",
   "mimetype": "text/x-python",
   "name": "python",
   "nbconvert_exporter": "python",
   "pygments_lexer": "ipython3",
   "version": "3.6.0b4"
  }
 },
 "nbformat": 4,
 "nbformat_minor": 2
}
